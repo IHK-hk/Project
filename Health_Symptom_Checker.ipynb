{
  "nbformat": 4,
  "nbformat_minor": 0,
  "metadata": {
    "colab": {
      "provenance": [],
      "authorship_tag": "ABX9TyOC88B8omKqNaNNZZRUYpLn",
      "include_colab_link": true
    },
    "kernelspec": {
      "name": "python3",
      "display_name": "Python 3"
    },
    "language_info": {
      "name": "python"
    }
  },
  "cells": [
    {
      "cell_type": "markdown",
      "metadata": {
        "id": "view-in-github",
        "colab_type": "text"
      },
      "source": [
        "<a href=\"https://colab.research.google.com/github/IHK-hk/Project/blob/main/Health_Symptom_Checker.ipynb\" target=\"_parent\"><img src=\"https://colab.research.google.com/assets/colab-badge.svg\" alt=\"Open In Colab\"/></a>"
      ]
    },
    {
      "cell_type": "code",
      "execution_count": 1,
      "metadata": {
        "id": "X4-joBwYQfLd"
      },
      "outputs": [],
      "source": [
        "import numpy as np\n",
        "import pandas as pd\n",
        "from sklearn.preprocessing import LabelEncoder\n",
        "from sklearn.model_selection import train_test_split\n",
        "from sklearn.ensemble import RandomForestClassifier\n",
        "from sklearn.naive_bayes import GaussianNB\n",
        "from sklearn.svm import SVC\n",
        "from sklearn.metrics import accuracy_score\n",
        "from imblearn.over_sampling import RandomOverSampler  # For imbalance if needed\n",
        "\n",
        "# Load the dataset (replace with your path)\n",
        "data = pd.read_csv('/content/sample_data/dataset.csv')\n",
        "\n",
        "# Clean symptom columns: strip spaces and lowercase\n",
        "symptom_columns = [col for col in data.columns if 'Symptom_' in col]\n",
        "for col in symptom_columns:\n",
        "    data[col] = data[col].str.strip().str.lower() if data[col].dtype == 'object' else data[col]\n",
        "\n",
        "# Get all unique symptoms\n",
        "all_symptoms = pd.unique(data[symptom_columns].values.ravel())\n",
        "all_symptoms = [s for s in all_symptoms if pd.notna(s)]  # Remove NaNs\n",
        "\n",
        "# Create one-hot encoded features for symptoms\n",
        "one_hot_df = pd.get_dummies(data[symptom_columns].stack()).groupby(level=0).sum()\n",
        "data = pd.concat([data['Disease'], one_hot_df], axis=1)\n",
        "\n",
        "# Encode the target (diseases)\n",
        "encoder = LabelEncoder()\n",
        "data['Disease'] = encoder.fit_transform(data['Disease'])\n",
        "\n",
        "# Features (X) and target (y)\n",
        "X = data.drop('Disease', axis=1)\n",
        "y = data['Disease']\n",
        "\n",
        "# Optional: Handle imbalance with oversampling\n",
        "ros = RandomOverSampler(random_state=42)\n",
        "X_resampled, y_resampled = ros.fit_resample(X, y)\n",
        "\n",
        "# Split into train/test sets\n",
        "X_train, X_test, y_train, y_test = train_test_split(X_resampled, y_resampled, test_size=0.2, random_state=42)"
      ]
    },
    {
      "cell_type": "code",
      "source": [
        "# Train models\n",
        "rf_model = RandomForestClassifier(random_state=42)\n",
        "rf_model.fit(X_train, y_train)\n",
        "\n",
        "nb_model = GaussianNB()\n",
        "nb_model.fit(X_train, y_train)\n",
        "\n",
        "svm_model = SVC(probability=True)  # Enable probabilities for potential thresholding\n",
        "svm_model.fit(X_train, y_train)\n",
        "\n",
        "# Predict on test set and evaluate\n",
        "rf_preds = rf_model.predict(X_test)\n",
        "nb_preds = nb_model.predict(X_test)\n",
        "svm_preds = svm_model.predict(X_test)\n",
        "\n",
        "# Ensemble: Majority vote\n",
        "from scipy.stats import mode\n",
        "ensemble_preds = mode([rf_preds, nb_preds, svm_preds], axis=0)[0].flatten()\n",
        "\n",
        "print(f\"Random Forest Accuracy: {accuracy_score(y_test, rf_preds):.4f}\")\n",
        "print(f\"Naive Bayes Accuracy: {accuracy_score(y_test, nb_preds):.4f}\")\n",
        "print(f\"SVM Accuracy: {accuracy_score(y_test, svm_preds):.4f}\")\n",
        "print(f\"Ensemble Accuracy: {accuracy_score(y_test, ensemble_preds):.4f}\")"
      ],
      "metadata": {
        "colab": {
          "base_uri": "https://localhost:8080/"
        },
        "id": "9iXJJPBlQ1_m",
        "outputId": "6e889fba-638d-4e22-ee94-2e9f7dc3707e"
      },
      "execution_count": 2,
      "outputs": [
        {
          "output_type": "stream",
          "name": "stdout",
          "text": [
            "Random Forest Accuracy: 1.0000\n",
            "Naive Bayes Accuracy: 1.0000\n",
            "SVM Accuracy: 1.0000\n",
            "Ensemble Accuracy: 1.0000\n"
          ]
        }
      ]
    },
    {
      "cell_type": "code",
      "source": [
        "import numpy as np\n",
        "\n",
        "# Symptom checker function\n",
        "def predict_disease(input_symptoms_str):\n",
        "    input_symptoms = [s.strip().lower() for s in input_symptoms_str.split(',')]\n",
        "    # Create a DataFrame with the same columns as training data\n",
        "    input_data = pd.DataFrame(np.zeros((1, len(X.columns))), columns=X.columns)\n",
        "\n",
        "    # Set 1 for present symptoms\n",
        "    for symptom in input_symptoms:\n",
        "        if symptom in X.columns:\n",
        "            input_data[symptom] = 1\n",
        "\n",
        "    # Predict with each model\n",
        "    rf_pred = encoder.inverse_transform(rf_model.predict(input_data))[0]\n",
        "    nb_pred = encoder.inverse_transform(nb_model.predict(input_data))[0]\n",
        "    svm_pred = encoder.inverse_transform(svm_model.predict(input_data))[0]\n",
        "\n",
        "    # Ensemble: Majority vote using np.unique\n",
        "    predictions = [rf_pred, nb_pred, svm_pred]\n",
        "    unique, counts = np.unique(predictions, return_counts=True)\n",
        "    final_pred = unique[np.argmax(counts)]  # Pick the most frequent prediction\n",
        "\n",
        "    return {\n",
        "        \"Random Forest Prediction\": rf_pred,\n",
        "        \"Naive Bayes Prediction\": nb_pred,\n",
        "        \"SVM Prediction\": svm_pred,\n",
        "        \"Final Prediction\": final_pred\n",
        "    }\n",
        "\n",
        "# Example usage\n",
        "print(predict_disease(\"itching,skin_rash,nodal_skin_eruptions\"))"
      ],
      "metadata": {
        "colab": {
          "base_uri": "https://localhost:8080/"
        },
        "id": "lOnVbg9WRCuN",
        "outputId": "546cf786-0d7f-4952-b45f-03f58a35dd62"
      },
      "execution_count": 4,
      "outputs": [
        {
          "output_type": "stream",
          "name": "stdout",
          "text": [
            "{'Random Forest Prediction': 'Fungal infection', 'Naive Bayes Prediction': 'Fungal infection', 'SVM Prediction': 'Fungal infection', 'Final Prediction': np.str_('Fungal infection')}\n"
          ]
        }
      ]
    },
    {
      "cell_type": "code",
      "source": [
        "# More Example usage\n",
        "print(predict_disease(\"itching,skin_rash,nodal_skin_eruptions,dischromic_patches\"))\n",
        "print(predict_disease(\"continuous_sneezing,shivering,chills,watering_from_eyes\"))\n",
        "print(predict_disease(\"stomach_pain,acidity,chest_pain,cough\"))\n",
        "print(predict_disease(\"fatigue,weight_loss,polyuria,increased_appetite\"))\n",
        "print(predict_disease(\"headache,dizziness,chest_pain,loss_of_balance\"))\n",
        "print(predict_disease(\"fever\"))\n",
        "print(predict_disease(\"congestion,runny_nose,cough,high_fever\"))\n",
        "print(predict_disease(\"joint_pain,stiffness,swelling_joints,painful_walking\"))\n",
        "print(predict_disease(\"nausea,vomiting,diarrhoea,abdominal_pain\"))\n",
        "#Invalid symptom test (to check error handling)\n",
        "print(predict_disease(\"invalid_symptom,skin_rash,fever\"))"
      ],
      "metadata": {
        "colab": {
          "base_uri": "https://localhost:8080/"
        },
        "id": "rLnlvP5ZYPor",
        "outputId": "a185bb32-47c5-4f2f-cbd1-18b0c472e4de"
      },
      "execution_count": 17,
      "outputs": [
        {
          "output_type": "stream",
          "name": "stdout",
          "text": [
            "{'Random Forest': 'Fungal infection', 'Naive Bayes': 'Fungal infection', 'SVM': 'Fungal infection', 'Ensemble': np.str_('Fungal infection')}\n",
            "{'Random Forest': 'Allergy', 'Naive Bayes': 'Allergy', 'SVM': 'Allergy', 'Ensemble': np.str_('Allergy')}\n",
            "{'Random Forest': 'GERD', 'Naive Bayes': 'GERD', 'SVM': 'GERD', 'Ensemble': np.str_('GERD')}\n",
            "{'Random Forest': 'Diabetes ', 'Naive Bayes': 'Diabetes ', 'SVM': 'Diabetes ', 'Ensemble': np.str_('Diabetes ')}\n",
            "{'Random Forest': 'Hypertension ', 'Naive Bayes': 'Hypertension ', 'SVM': 'Hypertension ', 'Ensemble': np.str_('Hypertension ')}\n",
            "{'Random Forest': 'Arthritis', 'Naive Bayes': 'Fungal infection', 'SVM': 'AIDS', 'Ensemble': np.str_('AIDS')}\n",
            "{'Random Forest': 'Bronchial Asthma', 'Naive Bayes': 'Bronchial Asthma', 'SVM': 'AIDS', 'Ensemble': np.str_('Bronchial Asthma')}\n",
            "{'Random Forest': 'Osteoarthristis', 'Naive Bayes': 'Osteoarthristis', 'SVM': 'Osteoarthristis', 'Ensemble': np.str_('Osteoarthristis')}\n",
            "{'Random Forest': 'Gastroenteritis', 'Naive Bayes': 'Chronic cholestasis', 'SVM': 'Gastroenteritis', 'Ensemble': np.str_('Gastroenteritis')}\n",
            "{'Random Forest': 'Acne', 'Naive Bayes': 'Acne', 'SVM': 'Acne', 'Ensemble': np.str_('Acne')}\n"
          ]
        }
      ]
    },
    {
      "cell_type": "code",
      "source": [
        "import pandas as pd\n",
        "from sklearn.metrics import accuracy_score, precision_score, recall_score, f1_score\n",
        "\n",
        "# Define models and their predictions\n",
        "models = {\n",
        "    \"Random Forest\": rf_preds,\n",
        "    \"Naive Bayes\": nb_preds,\n",
        "    \"SVM\": svm_preds,\n",
        "    \"Ensemble\": ensemble_preds\n",
        "}\n",
        "\n",
        "# Calculate metrics for each model\n",
        "metrics = {\n",
        "    \"Model\": [],\n",
        "    \"Accuracy\": [],\n",
        "    \"Precision\": [],\n",
        "    \"Recall\": [],\n",
        "    \"F1-Score\": []\n",
        "}\n",
        "\n",
        "for name, preds in models.items():\n",
        "    metrics[\"Model\"].append(name)\n",
        "    metrics[\"Accuracy\"].append(accuracy_score(y_test, preds))\n",
        "    metrics[\"Precision\"].append(precision_score(y_test, preds, average='weighted', zero_division=0))\n",
        "    metrics[\"Recall\"].append(recall_score(y_test, preds, average='weighted', zero_division=0))\n",
        "    metrics[\"F1-Score\"].append(f1_score(y_test, preds, average='weighted', zero_division=0))\n",
        "\n",
        "# Create and display DataFrame\n",
        "metrics_df = pd.DataFrame(metrics)\n",
        "print(metrics_df)\n",
        "\n",
        "# Save to CSV for reference\n",
        "metrics_df.to_csv('model_metrics.csv', index=False)"
      ],
      "metadata": {
        "colab": {
          "base_uri": "https://localhost:8080/"
        },
        "id": "eFFs1gnVSBXp",
        "outputId": "d9fc60ed-04e9-46de-d1f2-6cd98839188f"
      },
      "execution_count": 6,
      "outputs": [
        {
          "output_type": "stream",
          "name": "stdout",
          "text": [
            "           Model  Accuracy  Precision  Recall  F1-Score\n",
            "0  Random Forest       1.0        1.0     1.0       1.0\n",
            "1    Naive Bayes       1.0        1.0     1.0       1.0\n",
            "2            SVM       1.0        1.0     1.0       1.0\n",
            "3       Ensemble       1.0        1.0     1.0       1.0\n"
          ]
        }
      ]
    },
    {
      "cell_type": "code",
      "source": [
        "import pandas as pd\n",
        "import seaborn as sns\n",
        "import matplotlib.pyplot as plt\n",
        "from sklearn.metrics import confusion_matrix, accuracy_score, precision_score, recall_score, f1_score, classification_report\n",
        "import numpy as np\n",
        "\n",
        "# Define models and their predictions\n",
        "models = {\n",
        "    \"Random Forest\": rf_preds,\n",
        "    \"Naive Bayes\": nb_preds,\n",
        "    \"SVM\": svm_preds,\n",
        "    \"Ensemble\": ensemble_preds\n",
        "}\n",
        "\n",
        "# 1. Plot Confusion Matrix Heatmaps\n",
        "plt.figure(figsize=(20, 15))\n",
        "for i, (name, preds) in enumerate(models.items(), 1):\n",
        "    cm = confusion_matrix(y_test, preds)\n",
        "    plt.subplot(2, 2, i)\n",
        "    sns.heatmap(cm, annot=False, cmap='Blues', xticklabels=encoder.classes_, yticklabels=encoder.classes_)\n",
        "    plt.title(f'Confusion Matrix: {name}')\n",
        "    plt.xlabel('Predicted')\n",
        "    plt.ylabel('Actual')\n",
        "plt.tight_layout()\n",
        "plt.savefig('confusion_matrices.png')\n",
        "plt.close()\n",
        "\n",
        "# 2. Compute Metrics for Bar Chart\n",
        "metrics = {\n",
        "    \"Model\": [],\n",
        "    \"Accuracy\": [],\n",
        "    \"Precision\": [],\n",
        "    \"Recall\": [],\n",
        "    \"F1-Score\": []\n",
        "}\n",
        "\n",
        "for name, preds in models.items():\n",
        "    metrics[\"Model\"].append(name)\n",
        "    metrics[\"Accuracy\"].append(accuracy_score(y_test, preds))\n",
        "    metrics[\"Precision\"].append(precision_score(y_test, preds, average='weighted', zero_division=0))\n",
        "    metrics[\"Recall\"].append(recall_score(y_test, preds, average='weighted', zero_division=0))\n",
        "    metrics[\"F1-Score\"].append(f1_score(y_test, preds, average='weighted', zero_division=0))\n",
        "\n",
        "metrics_df = pd.DataFrame(metrics)\n",
        "\n",
        "# 3. Plot Bar Chart for Metrics Comparison\n",
        "metrics_df.set_index('Model').plot(kind='bar', figsize=(10, 6), color=['#4CAF50', '#2196F3', '#FF9800', '#9C27B0'])\n",
        "plt.title('Model Performance Comparison')\n",
        "plt.ylabel('Score')\n",
        "plt.xlabel('Model')\n",
        "plt.xticks(rotation=45)\n",
        "plt.legend(title='Metrics')\n",
        "plt.tight_layout()\n",
        "plt.savefig('metrics_bar_chart.png')\n",
        "plt.close()\n",
        "# 4. Save Classification Report for Ensemble Model\n",
        "report = classification_report(y_test, ensemble_preds, target_names=encoder.classes_, output_dict=False)\n",
        "with open('ensemble_classification_report.txt', 'w') as f:\n",
        "    f.write(report)\n"
      ],
      "metadata": {
        "id": "UdW_4VQNScQ6"
      },
      "execution_count": 9,
      "outputs": []
    },
    {
      "cell_type": "code",
      "source": [],
      "metadata": {
        "id": "hGKQcE2vS64p"
      },
      "execution_count": null,
      "outputs": []
    }
  ]
}